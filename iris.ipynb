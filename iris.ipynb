{
 "cells": [
  {
   "cell_type": "code",
   "execution_count": null,
   "id": "36932b23",
   "metadata": {},
   "outputs": [],
   "source": [
    "#Markdown"
   ]
  },
  {
   "cell_type": "code",
   "execution_count": null,
   "id": "d972ec2b",
   "metadata": {},
   "outputs": [],
   "source": [
    "\"\"\"\n",
    "Write your own MD content from slide49\n",
    "\"\"\""
   ]
  },
  {
   "cell_type": "code",
   "execution_count": null,
   "id": "9f3d289d",
   "metadata": {},
   "outputs": [],
   "source": [
    "#1. Hello python\n",
    "\n",
    "name = 'naem'\n",
    "goals = [ 'goal 1 ', 'goal 2', 'Big goal']\n",
    "\n",
    "print(\"hello\", name, '!')\n",
    "\n",
    "print(\"hello, \" + 'name' + '!')"
   ]
  },
  {
   "cell_type": "code",
   "execution_count": null,
   "id": "1ec5fb26",
   "metadata": {},
   "outputs": [],
   "source": []
  }
 ],
 "metadata": {
  "kernelspec": {
   "display_name": ".venv",
   "language": "python",
   "name": "python3"
  },
  "language_info": {
   "name": "python",
   "version": "3.12.11"
  }
 },
 "nbformat": 4,
 "nbformat_minor": 5
}
